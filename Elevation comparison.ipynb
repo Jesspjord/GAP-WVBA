{
 "cells": [
  {
   "cell_type": "markdown",
   "metadata": {},
   "source": [
    "#  US Gap Analysis Project - WV Breeding Bird Atlas Data Comparison \n",
    "Nathan Tarr and Jessie Jordan\n",
    "\n",
    "## Elevation\n",
    "We investigated the agreement between data collected by the WV Breeding Bird Atlas (2011-2015) and GAP's deductive habitat models and 2001 habitat maps.  Here, we present the results comparisons of elevation information.\n",
    "\n",
    "We compared three things: the elevations of survey locations where individuals were recorded by the WVBBA, the maximum and minimum elevations of habitat grid cells as mapped by GAP for each species, and the elevation parameter values from GAP habitat models.  We obtained WVBBA data from WV biologists who ran that project.  We determined the maximum and minimum elevations of habitat grid cells by summarizing their elevations with the arcpy package (\"map_max\" and \"map_min\").  Habitat model parameters were retrieved from ScienceBase items for the models.  The border between GAP's southeastern and northeastern modeling regions passes through WV, so habitat maps within WV could have been produced in part from two potentially different models.  We therefore used southeastern and northeastern model parameters in our comparisons (\"NE_max\", \"NE_min\", \"SE_max\", and \"SE_min\"), which, in some cases, complicated comparisons.\n",
    "\n",
    "To quantify the agreement between data sets, we tallied the number of individuals that the WVBBA recorded that were above and below the max elevations from habitat maps (\"individuals_over(n)\" and \"individuals_under(n)\"), as well as the differences between maximum and minimum elevations (\"max_diff\" and \"min_diff\").  "
   ]
  },
  {
   "cell_type": "code",
   "execution_count": 1,
   "metadata": {},
   "outputs": [
    {
     "name": "stdout",
     "output_type": "stream",
     "text": [
      "A sample of values\n",
      "\n",
      "GAP_code                          bcogrx               bcoyex             bhowrx                 brbnux           brevix\n",
      "WVBBA_code                          COGR                 COYE               HOWR                   RBNU             REVI\n",
      "common_name               Common Grackle  Common Yellowthroat         House Wren  Red-breasted Nuthatch   Red-eyed Vireo\n",
      "map_max                             1370                 1482               1480                   1482             1477\n",
      "map_min                               75                   75                 77                     86               77\n",
      "SE_max                              1371                  NaN                NaN                   2500              NaN\n",
      "SE_min                                 0                  NaN                NaN                   1000              NaN\n",
      "NE_max                              1371                  NaN                NaN                   2500              NaN\n",
      "NE_min                                 0                  NaN                NaN                      0              NaN\n",
      "WVBBA_max                           1160                 1320               1280                   1380             1340\n",
      "WVBBA_min                            100                  100                120                    560              140\n",
      "scientific_name       Quiscalus quiscula   Geothlypis trichas  Troglodytes aedon       Sitta canadensis  Vireo olivaceus\n",
      "max_diff                            -210                 -162               -200                   -102             -137\n",
      "min_diff                             -25                  -25                -43                   -474              -63\n",
      "WVBBA_individuals(n)                 841                  734                190                     65             3501\n",
      "individuals_over(n)                    0                    0                  0                      0                0\n",
      "individuals_under(n)                   0                    0                  0                      0                0\n"
     ]
    }
   ],
   "source": [
    "import pandas as pd, repo_functions as fun, numpy as np\n",
    "pd.set_option('display.width', 2000)\n",
    "pd.set_option('display.max_colwidth', 400)\n",
    "pd.set_option('display.max_rows', 400)\n",
    "pd.set_option('display.max_columns', 15)\n",
    "\n",
    "# Elevation summary csv\n",
    "eDF0 = pd.read_csv(fun.resultsDir + \"elevation_summary.csv\", header=0, names=[\"GAP_code\", \"WVBBA_code\", \"common_name\",\n",
    "                                                                              \"map_max\", \"map_min\", \"SE_max\", \"SE_min\", \n",
    "                                                                              \"NE_max\", \"NE_min\", \"WVBBA_max\", \"WVBBA_min\",\n",
    "                                                                              \"max_diff(%)\", \"min_diff(%)\", \"scientific_name\",\n",
    "                                                                              \"max_diff\", \"min_diff\", \"WVBBA_individuals(n)\", \n",
    "                                                                              \"individuals_over(n)\", \"individuals_under(n)\"])\n",
    "#eDF0.replace(to_replace='NULL', value=np.nan, inplace=True)\n",
    "print(\"A sample of values\\n\")\n",
    "eDF0.drop([\"min_diff(%)\",\"max_diff(%)\"], axis=1, inplace=True)\n",
    "eDF1 = eDF0.copy()\n",
    "eDF0.set_index(\"GAP_code\", inplace=True)\n",
    "print(eDF0.head().T)"
   ]
  },
  {
   "cell_type": "markdown",
   "metadata": {},
   "source": [
    "A complication existed regarding the elevations of WVBBA survey data.  Observers used a point count protocol in which bird detections were attributed to the survey point.  Although the survey location is an x,y point, the area surveyed is actually a polygon approximating a circle.  Thus, birds could have been detected from within a range of elevations despite being recorded at an x,y location.  The range of elevations surveyed is determined by the width of the circle that was effectively surveyed and the terrain.  The width of the circle and the distance at which individuals could be detected that ultimately determines it is affected by local factors including vegetation structure.  Thus, the elevation ranges assocated with detections varies among points  If the survey area is large and the terrain steep, then the range of elevations at which birds could have been detected is large.  Without knowing the conditions at each survey location, it is impossible to precisely attribute each record to an elevation, but ignoring this issue would introduce error in our assessment, therefore we approximated a margin of error of 75m for elevation values that we used when comparing WVBBA records to GAP data: values were considered equal when they were within 75 m of each other.  We chose 75m because individuals can often be heard from distance of 100m or more in auditory bird surveys and WV, in general, is mountainous."
   ]
  },
  {
   "cell_type": "code",
   "execution_count": 2,
   "metadata": {},
   "outputs": [],
   "source": [
    "# Set a margin of error for elevation\n",
    "elev_error = 75"
   ]
  },
  {
   "cell_type": "markdown",
   "metadata": {},
   "source": [
    "### Which models have innapropriate GAP max elevation parameters that should be raised for WV?\n",
    "Cases where the maximum elevation parameter should be raised can be identified by determining which species were detected in significant frequency at elevations above the maximum elevation from the habitat map *and* for which the maximum from the map equals the maximum elevation parameter in the model.  It is possible for the maximum elevation parameter to be different from the map maximum when other model parameters, such as cover type selections, limit output to lower elevations.  Defining a \"significant frequency\" of WVBBA occurrences that defy the model parameter is subjective; we used a value of 1% of total detections.  Additionally, we applied the margin of error discussed above so that at least one detection had to be more than 75 m above the GAP maximum in order for frequency of errors to be assessed. "
   ]
  },
  {
   "cell_type": "code",
   "execution_count": 19,
   "metadata": {},
   "outputs": [
    {
     "name": "stdout",
     "output_type": "stream",
     "text": [
      "\n",
      "\n",
      "Max elevation needs to be adjusted in the models for these species\n",
      "                     common_name  individuals_over(n)  individuals_over(%)  max_diff  WVBBA_max  map_max  SE_max  NE_max\n",
      "GAP_code                                                                                                                \n",
      "bchspx          Chipping Sparrow                  136            16.229117       387       1300      913   914.0   914.0\n",
      "brbwox    Red-bellied Woodpecker                   26             3.576341       361       1260      899   900.0   900.0\n",
      "bwiflx         Willow Flycatcher                   16            16.494845       371       1220      849   850.0   850.0\n",
      "bororx            Orchard Oriole                   13            10.569106       331        940      609   610.0   610.0\n",
      "bnoflx          Northern Flicker                    8             1.731602       122       1340     1218  1219.0  1219.0\n",
      "bbekix         Belted Kingfisher                    8             9.302326       267       1180      913   914.0   914.0\n",
      "beablx          Eastern Bluebird                    6             1.369863       122       1340     1218  1219.0  1219.0\n",
      "bgbhex          Great Blue Heron                    4             9.302326       371        980      609   610.0   610.0\n",
      "beakix          Eastern Kingbird                    2             1.652893       247       1160      913   914.0   914.0\n"
     ]
    }
   ],
   "source": [
    "# Which species were detected above max elevation from habitat maps?\n",
    "df0 = eDF1[eDF1[\"individuals_over(n)\"] > 0]\n",
    "overMax = df0.filter(items=['GAP_code', 'common_name', 'individuals_over(n)', 'WVBBA_max', 'map_max', 'max_diff', 'SE_max', \n",
    "                            'NE_max', 'WVBBA_individuals(n)'], axis=1)\n",
    "''' \n",
    "Omit records with difference greater than the set \"elev_error\" bcs. count circles have range of elevations and gps precision, \n",
    "which creates reason to question a conflict bcs. elev is 'close' to gap max.\n",
    "'''\n",
    "overMax = overMax[overMax['max_diff'] > elev_error]\n",
    "\n",
    "'''\n",
    "If only a small percentage of the detected individuals conflict with the map, then it's probably not appropriate to change the \n",
    "model, so filter out species w/ <1% of individuals conflicting with the model'\n",
    "'''\n",
    "overMax['individuals_over(%)'] = 100*(overMax['individuals_over(n)']/overMax['WVBBA_individuals(n)'])\n",
    "overMax.sort_values(by=\"individuals_over(n)\", ascending=False, inplace=True)\n",
    "overMax = overMax[overMax['individuals_over(%)'] > 1]\n",
    "\n",
    "# For which species was a model responsible and needs to be adjusted?\n",
    "'''\n",
    "If one of the model max's is NULL, then the map output max wasn't necessarily constrained by it, so exclude it.  \n",
    "'''\n",
    "overMax2 = overMax.copy().dropna()\n",
    "overMax2.drop([\"WVBBA_individuals(n)\"], axis=1, inplace=True)\n",
    "overMax2.set_index([\"GAP_code\"], inplace=True)\n",
    "print(\"\\n\\nMax elevation needs to be adjusted in the models for these species\")\n",
    "print(overMax2.filter([\"common_name\", \"individuals_over(n)\", \"individuals_over(%)\", \"max_diff\", \"WVBBA_max\", \"map_max\", \n",
    "              \"SE_max\", \"NE_max\"], axis=1))"
   ]
  },
  {
   "cell_type": "markdown",
   "metadata": {},
   "source": [
    "### For which species is something other than the elevation parameter restricting output to lower elevations?\n",
    "Significant numbers of detections above the GAP map maximum elevation when the map max doesn't equal the model max indicates that something other than the model parameter restricted the habitat map to erroneously low elevations."
   ]
  },
  {
   "cell_type": "code",
   "execution_count": 22,
   "metadata": {},
   "outputs": [
    {
     "name": "stdout",
     "output_type": "stream",
     "text": [
      "\n",
      "\n",
      "Something other than a max elevation parameter could be erroneously restricting map output to low elevations.\n",
      "             common_name  individuals_over(n)  individuals_over(%)  max_diff  WVBBA_max  map_max  SE_max  NE_max\n",
      "GAP_code                                                                                                        \n",
      "beaphx    Eastern Phoebe                  202            38.403042       714       1160      446     NaN     NaN\n"
     ]
    }
   ],
   "source": [
    "# For which species was something other than a model responsible for the error?\n",
    "overMax3 = overMax[overMax['GAP_code'].isin(overMax2.index) == False].copy()\n",
    "overMax3.drop([\"WVBBA_individuals(n)\"], axis=1, inplace=True)\n",
    "overMax3.set_index(\"GAP_code\", inplace=True)\n",
    "print(\"\\n\\nSomething other than a max elevation parameter could be erroneously restricting map output to low elevations.\")\n",
    "print(overMax3.filter([\"common_name\", \"individuals_over(n)\", \"individuals_over(%)\", \"max_diff\", \"WVBBA_max\", \"map_max\", \n",
    "              \"SE_max\", \"NE_max\"], axis=1))"
   ]
  },
  {
   "cell_type": "code",
   "execution_count": null,
   "metadata": {},
   "outputs": [],
   "source": []
  },
  {
   "cell_type": "code",
   "execution_count": 21,
   "metadata": {},
   "outputs": [
    {
     "name": "stdout",
     "output_type": "stream",
     "text": [
      "\n",
      "\n",
      "Min elevation needs to be adjusted in the models for these species\n",
      "                common_name  individuals_under(n)  WVBBA_min  map_min  min_diff  SE_min  NE_min  WVBBA_individuals(n)  individuals_under(%)\n",
      "GAP_code                                                                                                                                   \n",
      "bbhvix    Blue-headed Vireo                    24        220      301        81   300.0   300.0                   490              4.897959\n"
     ]
    },
    {
     "ename": "KeyError",
     "evalue": "'GAP_code'",
     "output_type": "error",
     "traceback": [
      "\u001b[1;31m---------------------------------------------------------------------------\u001b[0m",
      "\u001b[1;31mKeyError\u001b[0m                                  Traceback (most recent call last)",
      "\u001b[1;32m~\\AppData\\Local\\Continuum\\miniconda3\\envs\\WVBBA\\lib\\site-packages\\pandas\\core\\indexes\\base.py\u001b[0m in \u001b[0;36mget_loc\u001b[1;34m(self, key, method, tolerance)\u001b[0m\n\u001b[0;32m   2645\u001b[0m             \u001b[1;32mtry\u001b[0m\u001b[1;33m:\u001b[0m\u001b[1;33m\u001b[0m\u001b[1;33m\u001b[0m\u001b[0m\n\u001b[1;32m-> 2646\u001b[1;33m                 \u001b[1;32mreturn\u001b[0m \u001b[0mself\u001b[0m\u001b[1;33m.\u001b[0m\u001b[0m_engine\u001b[0m\u001b[1;33m.\u001b[0m\u001b[0mget_loc\u001b[0m\u001b[1;33m(\u001b[0m\u001b[0mkey\u001b[0m\u001b[1;33m)\u001b[0m\u001b[1;33m\u001b[0m\u001b[1;33m\u001b[0m\u001b[0m\n\u001b[0m\u001b[0;32m   2647\u001b[0m             \u001b[1;32mexcept\u001b[0m \u001b[0mKeyError\u001b[0m\u001b[1;33m:\u001b[0m\u001b[1;33m\u001b[0m\u001b[1;33m\u001b[0m\u001b[0m\n",
      "\u001b[1;32mpandas\\_libs\\index.pyx\u001b[0m in \u001b[0;36mpandas._libs.index.IndexEngine.get_loc\u001b[1;34m()\u001b[0m\n",
      "\u001b[1;32mpandas\\_libs\\index.pyx\u001b[0m in \u001b[0;36mpandas._libs.index.IndexEngine.get_loc\u001b[1;34m()\u001b[0m\n",
      "\u001b[1;32mpandas\\_libs\\hashtable_class_helper.pxi\u001b[0m in \u001b[0;36mpandas._libs.hashtable.PyObjectHashTable.get_item\u001b[1;34m()\u001b[0m\n",
      "\u001b[1;32mpandas\\_libs\\hashtable_class_helper.pxi\u001b[0m in \u001b[0;36mpandas._libs.hashtable.PyObjectHashTable.get_item\u001b[1;34m()\u001b[0m\n",
      "\u001b[1;31mKeyError\u001b[0m: 'GAP_code'",
      "\nDuring handling of the above exception, another exception occurred:\n",
      "\u001b[1;31mKeyError\u001b[0m                                  Traceback (most recent call last)",
      "\u001b[1;32m<ipython-input-21-6f4a72a5a414>\u001b[0m in \u001b[0;36m<module>\u001b[1;34m\u001b[0m\n\u001b[0;32m     31\u001b[0m \u001b[1;33m\u001b[0m\u001b[0m\n\u001b[0;32m     32\u001b[0m \u001b[1;31m# For which species was something other than a model responsible for the error?\u001b[0m\u001b[1;33m\u001b[0m\u001b[1;33m\u001b[0m\u001b[1;33m\u001b[0m\u001b[0m\n\u001b[1;32m---> 33\u001b[1;33m \u001b[0moverMin3\u001b[0m \u001b[1;33m=\u001b[0m \u001b[0moverMin\u001b[0m\u001b[1;33m[\u001b[0m\u001b[0moverMin\u001b[0m\u001b[1;33m[\u001b[0m\u001b[1;34m'GAP_code'\u001b[0m\u001b[1;33m]\u001b[0m\u001b[1;33m.\u001b[0m\u001b[0misin\u001b[0m\u001b[1;33m(\u001b[0m\u001b[0moverMin2\u001b[0m\u001b[1;33m[\u001b[0m\u001b[1;34m'GAP_code'\u001b[0m\u001b[1;33m]\u001b[0m\u001b[1;33m)\u001b[0m \u001b[1;33m==\u001b[0m \u001b[1;32mFalse\u001b[0m\u001b[1;33m]\u001b[0m\u001b[1;33m\u001b[0m\u001b[1;33m\u001b[0m\u001b[0m\n\u001b[0m\u001b[0;32m     34\u001b[0m \u001b[0mprint\u001b[0m\u001b[1;33m(\u001b[0m\u001b[1;34m\"\\n\\nSomething other than a min elevation parameter could be erroneously restricting map output to high elevations.\"\u001b[0m\u001b[1;33m)\u001b[0m\u001b[1;33m\u001b[0m\u001b[1;33m\u001b[0m\u001b[0m\n\u001b[0;32m     35\u001b[0m \u001b[0mprint\u001b[0m\u001b[1;33m(\u001b[0m\u001b[0moverMin3\u001b[0m\u001b[1;33m)\u001b[0m\u001b[1;33m\u001b[0m\u001b[1;33m\u001b[0m\u001b[0m\n",
      "\u001b[1;32m~\\AppData\\Local\\Continuum\\miniconda3\\envs\\WVBBA\\lib\\site-packages\\pandas\\core\\frame.py\u001b[0m in \u001b[0;36m__getitem__\u001b[1;34m(self, key)\u001b[0m\n\u001b[0;32m   2798\u001b[0m             \u001b[1;32mif\u001b[0m \u001b[0mself\u001b[0m\u001b[1;33m.\u001b[0m\u001b[0mcolumns\u001b[0m\u001b[1;33m.\u001b[0m\u001b[0mnlevels\u001b[0m \u001b[1;33m>\u001b[0m \u001b[1;36m1\u001b[0m\u001b[1;33m:\u001b[0m\u001b[1;33m\u001b[0m\u001b[1;33m\u001b[0m\u001b[0m\n\u001b[0;32m   2799\u001b[0m                 \u001b[1;32mreturn\u001b[0m \u001b[0mself\u001b[0m\u001b[1;33m.\u001b[0m\u001b[0m_getitem_multilevel\u001b[0m\u001b[1;33m(\u001b[0m\u001b[0mkey\u001b[0m\u001b[1;33m)\u001b[0m\u001b[1;33m\u001b[0m\u001b[1;33m\u001b[0m\u001b[0m\n\u001b[1;32m-> 2800\u001b[1;33m             \u001b[0mindexer\u001b[0m \u001b[1;33m=\u001b[0m \u001b[0mself\u001b[0m\u001b[1;33m.\u001b[0m\u001b[0mcolumns\u001b[0m\u001b[1;33m.\u001b[0m\u001b[0mget_loc\u001b[0m\u001b[1;33m(\u001b[0m\u001b[0mkey\u001b[0m\u001b[1;33m)\u001b[0m\u001b[1;33m\u001b[0m\u001b[1;33m\u001b[0m\u001b[0m\n\u001b[0m\u001b[0;32m   2801\u001b[0m             \u001b[1;32mif\u001b[0m \u001b[0mis_integer\u001b[0m\u001b[1;33m(\u001b[0m\u001b[0mindexer\u001b[0m\u001b[1;33m)\u001b[0m\u001b[1;33m:\u001b[0m\u001b[1;33m\u001b[0m\u001b[1;33m\u001b[0m\u001b[0m\n\u001b[0;32m   2802\u001b[0m                 \u001b[0mindexer\u001b[0m \u001b[1;33m=\u001b[0m \u001b[1;33m[\u001b[0m\u001b[0mindexer\u001b[0m\u001b[1;33m]\u001b[0m\u001b[1;33m\u001b[0m\u001b[1;33m\u001b[0m\u001b[0m\n",
      "\u001b[1;32m~\\AppData\\Local\\Continuum\\miniconda3\\envs\\WVBBA\\lib\\site-packages\\pandas\\core\\indexes\\base.py\u001b[0m in \u001b[0;36mget_loc\u001b[1;34m(self, key, method, tolerance)\u001b[0m\n\u001b[0;32m   2646\u001b[0m                 \u001b[1;32mreturn\u001b[0m \u001b[0mself\u001b[0m\u001b[1;33m.\u001b[0m\u001b[0m_engine\u001b[0m\u001b[1;33m.\u001b[0m\u001b[0mget_loc\u001b[0m\u001b[1;33m(\u001b[0m\u001b[0mkey\u001b[0m\u001b[1;33m)\u001b[0m\u001b[1;33m\u001b[0m\u001b[1;33m\u001b[0m\u001b[0m\n\u001b[0;32m   2647\u001b[0m             \u001b[1;32mexcept\u001b[0m \u001b[0mKeyError\u001b[0m\u001b[1;33m:\u001b[0m\u001b[1;33m\u001b[0m\u001b[1;33m\u001b[0m\u001b[0m\n\u001b[1;32m-> 2648\u001b[1;33m                 \u001b[1;32mreturn\u001b[0m \u001b[0mself\u001b[0m\u001b[1;33m.\u001b[0m\u001b[0m_engine\u001b[0m\u001b[1;33m.\u001b[0m\u001b[0mget_loc\u001b[0m\u001b[1;33m(\u001b[0m\u001b[0mself\u001b[0m\u001b[1;33m.\u001b[0m\u001b[0m_maybe_cast_indexer\u001b[0m\u001b[1;33m(\u001b[0m\u001b[0mkey\u001b[0m\u001b[1;33m)\u001b[0m\u001b[1;33m)\u001b[0m\u001b[1;33m\u001b[0m\u001b[1;33m\u001b[0m\u001b[0m\n\u001b[0m\u001b[0;32m   2649\u001b[0m         \u001b[0mindexer\u001b[0m \u001b[1;33m=\u001b[0m \u001b[0mself\u001b[0m\u001b[1;33m.\u001b[0m\u001b[0mget_indexer\u001b[0m\u001b[1;33m(\u001b[0m\u001b[1;33m[\u001b[0m\u001b[0mkey\u001b[0m\u001b[1;33m]\u001b[0m\u001b[1;33m,\u001b[0m \u001b[0mmethod\u001b[0m\u001b[1;33m=\u001b[0m\u001b[0mmethod\u001b[0m\u001b[1;33m,\u001b[0m \u001b[0mtolerance\u001b[0m\u001b[1;33m=\u001b[0m\u001b[0mtolerance\u001b[0m\u001b[1;33m)\u001b[0m\u001b[1;33m\u001b[0m\u001b[1;33m\u001b[0m\u001b[0m\n\u001b[0;32m   2650\u001b[0m         \u001b[1;32mif\u001b[0m \u001b[0mindexer\u001b[0m\u001b[1;33m.\u001b[0m\u001b[0mndim\u001b[0m \u001b[1;33m>\u001b[0m \u001b[1;36m1\u001b[0m \u001b[1;32mor\u001b[0m \u001b[0mindexer\u001b[0m\u001b[1;33m.\u001b[0m\u001b[0msize\u001b[0m \u001b[1;33m>\u001b[0m \u001b[1;36m1\u001b[0m\u001b[1;33m:\u001b[0m\u001b[1;33m\u001b[0m\u001b[1;33m\u001b[0m\u001b[0m\n",
      "\u001b[1;32mpandas\\_libs\\index.pyx\u001b[0m in \u001b[0;36mpandas._libs.index.IndexEngine.get_loc\u001b[1;34m()\u001b[0m\n",
      "\u001b[1;32mpandas\\_libs\\index.pyx\u001b[0m in \u001b[0;36mpandas._libs.index.IndexEngine.get_loc\u001b[1;34m()\u001b[0m\n",
      "\u001b[1;32mpandas\\_libs\\hashtable_class_helper.pxi\u001b[0m in \u001b[0;36mpandas._libs.hashtable.PyObjectHashTable.get_item\u001b[1;34m()\u001b[0m\n",
      "\u001b[1;32mpandas\\_libs\\hashtable_class_helper.pxi\u001b[0m in \u001b[0;36mpandas._libs.hashtable.PyObjectHashTable.get_item\u001b[1;34m()\u001b[0m\n",
      "\u001b[1;31mKeyError\u001b[0m: 'GAP_code'"
     ]
    }
   ],
   "source": [
    "# Which species were detected below min elevation from habitat maps?\n",
    "df1 = eDF0[eDF0[\"individuals_under(n)\"] > 0]\n",
    "overMin = df1.filter(items=['GAP_code', 'common_name', 'individuals_under(n)', \n",
    "                            'WVBBA_min', 'map_min', 'min_diff', 'SE_min', \n",
    "                            'NE_min', 'WVBBA_individuals(n)'], \n",
    "                     axis=1)\n",
    "''' \n",
    "Omit records with difference greater than the set \"elev_error\" bcs. count \n",
    "circles have range of elevations and gps precision, which creates reason to \n",
    "question a conflict bcs. elev is 'close' to gap min.\n",
    "'''\n",
    "overMin = overMin[overMin['min_diff'] > elev_error]\n",
    "\n",
    "'''\n",
    "If only a small percentage of the detected individuals conflict with the map,\n",
    "then it's probably not appropriate to change the model, so filter out\n",
    "species w/ <1% of individuals conflicting with the model\n",
    "'''\n",
    "overMin['individuals_under(%)'] = 100*(overMin['individuals_under(n)']/overMin['WVBBA_individuals(n)'])\n",
    "overMin.sort_values(by=\"individuals_under(n)\", ascending=False, inplace=True)\n",
    "overMin = overMin[overMin['individuals_under(%)'] > 1]\n",
    "\n",
    "# For which species was a model responsible and needs to be adjusted?\n",
    "'''\n",
    "If one of the model min's is NULL, then map output min wasn't necessarily\n",
    "constrained by it, so exlude.  \n",
    "'''\n",
    "overMin2 = overMin.copy().dropna()\n",
    "print(\"\\n\\nMin elevation needs to be adjusted in the models for these species\")\n",
    "print(overMin2)\n",
    "\n",
    "# For which species was something other than a model responsible for the error?\n",
    "overMin3 = overMin[overMin['GAP_code'].isin(overMin2['GAP_code']) == False]\n",
    "print(\"\\n\\nSomething other than a min elevation parameter could be erroneously restricting map output to high elevations.\")\n",
    "print(overMin3)\n",
    "\n",
    "\n"
   ]
  },
  {
   "cell_type": "markdown",
   "metadata": {},
   "source": []
  },
  {
   "cell_type": "code",
   "execution_count": null,
   "metadata": {},
   "outputs": [],
   "source": [
    "#################  OBSOLETE ELEVATION PARAMETERS  ############################\n",
    "##############################################################################\n",
    "# For which species is max map elevation less than the max elevation parameter\n",
    "misMax = eDF0.copy().filter(items=['GAP_code', 'common_name', 'map_max', 'SE_max', \n",
    "                            'NE_max'], axis=1)\n",
    "misMax = misMax.dropna()\n",
    "misMax2 = misMax[(misMax['map_max'] + 1 < misMax['SE_max']) & (misMax['map_max'] + 1 < misMax['NE_max'])]\n",
    "print(\"\\n\\nThese species have obsolete maximum elevations for WV\")\n",
    "print(misMax2)\n",
    "\n",
    "misMin = eDF0.copy().filter(items=['GAP_code', 'common_name', 'map_min', 'SE_min', \n",
    "                            'NE_min'], axis=1)\n",
    "misMin = misMin.dropna()\n",
    "misMin2 = misMin[(misMin['map_min'] - 1 > misMin['SE_min']) & (misMin['map_min'] - 1 > misMin['NE_min'])]\n",
    "print(\"\\n\\nThese species have obsolete minimum elevations for WV\")\n",
    "print(misMin2)\n",
    "\n"
   ]
  },
  {
   "cell_type": "markdown",
   "metadata": {},
   "source": [
    "## Conclusions\n",
    "Modeling regions prohibit model quality\n"
   ]
  }
 ],
 "metadata": {
  "kernelspec": {
   "display_name": "Python 3",
   "language": "python",
   "name": "python3"
  },
  "language_info": {
   "codemirror_mode": {
    "name": "ipython",
    "version": 3
   },
   "file_extension": ".py",
   "mimetype": "text/x-python",
   "name": "python",
   "nbconvert_exporter": "python",
   "pygments_lexer": "ipython3",
   "version": "3.6.10"
  }
 },
 "nbformat": 4,
 "nbformat_minor": 4
}
