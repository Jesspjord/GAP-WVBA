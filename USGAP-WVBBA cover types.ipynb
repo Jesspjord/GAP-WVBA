{
 "cells": [
  {
   "cell_type": "markdown",
   "metadata": {},
   "source": [
    "#  US Gap Analysis Project - WV Breeding Bird Atlas Data Comparison \n",
    "Nathan Tarr and Jessie Jordan\n",
    "\n",
    "## Summary of cover type associations in West Virginia\n",
    "We investigated the agreement between WV Breeding Bird Atlas (2011-2015) and USGS Gap Analysis Project data on "
   ]
  },
  {
   "cell_type": "code",
   "execution_count": 7,
   "metadata": {},
   "outputs": [],
   "source": [
    "import pandas as pd\n",
    "import repo_functions as fun\n",
    "pd.set_option('display.width', 2000)\n",
    "pd.set_option('display.max_colwidth', 400)\n",
    "pd.set_option('display.max_rows', 400)\n",
    "pd.set_option('display.max_columns', 15)\n",
    "\n",
    "# Load land cover crosswalk - slow loading for some reason\n",
    "cross = pd.read_csv(fun.dataDir + \"LandCover/land_cover_crosswalk.csv\", header=0, dtype={'GAP_code': str}) "
   ]
  },
  {
   "cell_type": "code",
   "execution_count": 41,
   "metadata": {},
   "outputs": [
    {
     "name": "stdout",
     "output_type": "stream",
     "text": [
      "\n",
      "System associations in the GAP model\n",
      "                                                                     GAP_name\n",
      "GAP_code                                                                     \n",
      "1201                                                    Developed, Open Space\n",
      "1201                                                    Developed, Open Space\n",
      "1202                                                 Developed, Low-intensity\n",
      "1202                                                 Developed, Low-intensity\n",
      "4104                  Northeastern Interior Dry Oak Forest-Hardwood Modifier*\n",
      "4104                  Northeastern Interior Dry Oak Forest-Hardwood Modifier*\n",
      "4106                    Northeastern Interior Dry Oak Forest - Mixed Modifier\n",
      "4109                      Southern and Central Appalachian Oak Forest - Xeric\n",
      "4119                            Southern Appalachian Northern Hardwood Forest\n",
      "4119                            Southern Appalachian Northern Hardwood Forest\n",
      "4119                            Southern Appalachian Northern Hardwood Forest\n",
      "4125                              Southern and Central Appalachian Oak Forest\n",
      "4125                              Southern and Central Appalachian Oak Forest\n",
      "4126              Allegheny-Cumberland Dry Oak Forest and Woodland - Hardwood\n",
      "4202                                           Southern Piedmont Mesic Forest\n",
      "4302              Southern Piedmont Dry Oak-(Pine) Forest - Hardwood Modifier\n",
      "4304      Northeastern Interior Dry Oak Forest - Virginia/Pitch Pine Modifier\n",
      "4307         Allegheny-Cumberland Dry Oak Forest and Woodland - Pine Modifier\n",
      "4308          Southern Ridge and Valley Dry Calcareous Forest - Pine modifier\n",
      "4308          Southern Ridge and Valley Dry Calcareous Forest - Pine modifier\n",
      "4310                Southern Piedmont Dry Oak-(Pine) Forest - Mixed Modifier*\n",
      "4330                                  Central Appalachian Oak and Pine Forest\n",
      "4331                                      Appalachian Hemlock-Hardwood Forest\n",
      "4331                                      Appalachian Hemlock-Hardwood Forest\n",
      "4334                          Southern Ridge and Valley Dry Calcareous Forest\n",
      "4334                          Southern Ridge and Valley Dry Calcareous Forest\n",
      "4401                             Southern and Central Appalachian Cove Forest\n",
      "4401                             Southern and Central Appalachian Cove Forest\n",
      "4402                                 South-Central Interior Mesophytic Forest\n",
      "4402                                 South-Central Interior Mesophytic Forest\n",
      "4538                            Southern Appalachian Low Mountain Pine Forest\n",
      "4538                            Southern Appalachian Low Mountain Pine Forest\n",
      "8102                              Disturbed/Successional - Shrub Regeneration\n",
      "8504                                                           Ruderal forest\n",
      "8504                                                           Ruderal forest\n",
      "9212                        North-Central Interior and Appalachian Rich Swamp\n",
      "9212                        North-Central Interior and Appalachian Rich Swamp\n",
      "9803                           Central Appalachian Riparian - Forest Modifier\n",
      "9805                South-Central Interior Large Floodplain - Forest Modifier\n",
      "9818                      Central Interior and Appalachian Floodplain Systems\n",
      "9818                      Central Interior and Appalachian Floodplain Systems\n",
      "9819                        Central Interior and Appalachian Riparian Systems\n",
      "9819                        Central Interior and Appalachian Riparian Systems\n",
      "9819                        Central Interior and Appalachian Riparian Systems\n",
      "9850                         South-Central Interior Small Stream and Riparian\n",
      "9857                                  South-Central Interior Large Floodplain\n",
      "\n",
      "WVBBA detections by WVBBA habitat type\n",
      "                                             wv_name_fine detections\n",
      "wv_code_fine                                                        \n",
      "1               Mixed mesophytic and cove hardwood forest        141\n",
      "10                          Riparian or floodplain forest         76\n",
      "11            Riparian or floodplain shrub-herb community         60\n",
      "13                                            Shrub swamp          2\n",
      "14a                                                 Marsh          1\n",
      "15c                                        Pond/reservoir          1\n",
      "16                                         Disturbed area        118\n",
      "16a                                            Old fields         75\n",
      "16b                                                Logged         21\n",
      "16c                                        Abandoned mine         22\n",
      "17a                                               Pasture         28\n",
      "17b                                                   Hay         13\n",
      "17d                                               Orchard          3\n",
      "17d                                              Farmland          3\n",
      "18                                              Developed         11\n",
      "18a                                           Residential        128\n",
      "18b                                            Commerical          6\n",
      "18c                                            Industrial          9\n",
      "2                                        Moist oak forest         10\n",
      "29                             Eastern red-cedar woodland          3\n",
      "2a                                              Mesic oak         21\n",
      "2b                                            Oak-hickory         18\n",
      "3                                          Dry oak forest          8\n",
      "32                                                  Other         13\n",
      "3c                                         Oak-white pine          4\n",
      "4                               Northern hardwoods forest          3\n",
      "6b                                 Hemlock-mixed hardwood          1\n",
      "7b                                               Pine-oak          4\n",
      "8                           Successional deciduous forest        111\n",
      "4 of 29 GAP ecological system associations were validated.\n"
     ]
    }
   ],
   "source": [
    "# Perform crosswalk of detections from WV -> USGAP\n",
    "master, GAP_linked, unmatched, gap_types, wv_types = fun.cross_to_GAP(species, cross)"
   ]
  },
  {
   "cell_type": "code",
   "execution_count": 42,
   "metadata": {},
   "outputs": [
    {
     "name": "stdout",
     "output_type": "stream",
     "text": [
      "Validated associations\n",
      "   GAP_code                                       GAP_name  detections\n",
      "14     4119  Southern Appalachian Northern Hardwood Forest         3.0\n",
      "17     4202                 Southern Piedmont Mesic Forest        21.0\n",
      "30     4538  Southern Appalachian Low Mountain Pine Forest         3.0\n",
      "38     8504                                 Ruderal forest       111.0\n"
     ]
    }
   ],
   "source": [
    "# Show validated associations ------------------------------------------------\n",
    "print(\"Validated associations\")\n",
    "df_valid = master[master['evaluation'] == 'valid']\n",
    "print(df_valid[['GAP_code', 'GAP_name', 'detections']])"
   ]
  },
  {
   "cell_type": "code",
   "execution_count": 43,
   "metadata": {},
   "outputs": [
    {
     "name": "stdout",
     "output_type": "stream",
     "text": [
      "New GAP ecological system associations that are supported by WVBBA:\n",
      "   GAP_code                                     GAP_name  detections\n",
      "0         0                                          NaN        13.0\n",
      "6      1402                          Cultivated Cropland         3.0\n",
      "7      1403                                  Pasture/Hay        13.0\n",
      "9      3105                 Undifferentiated Barren Land        22.0\n",
      "27     4335  Central Appalachian Pine-Oak Rocky Woodland         4.0\n"
     ]
    }
   ],
   "source": [
    "# Show supported additions ---------------------------------------------------\n",
    "print(\"New GAP ecological system associations that are supported by WVBBA:\")\n",
    "df_add = master[master['evaluation'] == 'add_association']\n",
    "print(df_add[['GAP_code', 'GAP_name', 'detections']])"
   ]
  },
  {
   "cell_type": "markdown",
   "metadata": {},
   "source": [
    "#### Aggregate \"unmatched\" across all species and present a figure or table."
   ]
  },
  {
   "cell_type": "code",
   "execution_count": 44,
   "metadata": {},
   "outputs": [
    {
     "name": "stdout",
     "output_type": "stream",
     "text": [
      "Invalid habitat codes entered by WVBBA observers:\n",
      "{'16d': 6.0, '17': 38.0, '18d': 2.0, '1la': 1.0, '39': 1.0, '3a': 10.0}\n"
     ]
    }
   ],
   "source": [
    "# Show invalid WV codes entered ----------------------------------------------\n",
    "print(\"Invalid habitat codes entered by WVBBA observers:\")\n",
    "print(unmatched)"
   ]
  },
  {
   "cell_type": "markdown",
   "metadata": {},
   "source": [
    "#### Make a version of the result below that aggregates across species (i.e., average # records used for validations)."
   ]
  },
  {
   "cell_type": "code",
   "execution_count": 45,
   "metadata": {
    "scrolled": false
   },
   "outputs": [
    {
     "name": "stdout",
     "output_type": "stream",
     "text": [
      "                      detections\n",
      "Unusable                   776.0\n",
      "Supported validation       138.0\n",
      "Supported addition          55.0\n",
      "Total detections           969.0\n"
     ]
    },
    {
     "data": {
      "text/plain": [
       "Text(0, 0.5, '')"
      ]
     },
     "execution_count": 45,
     "metadata": {},
     "output_type": "execute_result"
    },
    {
     "data": {
      "image/png": "[encoded data removed]",
      "text/plain": [
       "<Figure size 432x288 with 1 Axes>"
      ]
     },
     "metadata": {},
     "output_type": "display_data"
    }
   ],
   "source": [
    "# Report and plot results for usable detections ------------------------------\n",
    "usable_df = pd.DataFrame(index=[\"Unusable\", \"Supported validation\",\n",
    "                                \"Supported addition\", \"Total detections\"], \n",
    "                         columns=[\"detections\"])\n",
    "usable_df.loc['Supported validation', 'detections'] = int(df_valid[['detections']].sum())\n",
    "usable_df.loc['Supported addition', 'detections'] = int(df_add[['detections']].sum())\n",
    "usable_df.loc['Total detections', 'detections'] = wv_types['detections'].sum()\n",
    "usable_df.loc['Unusable', 'detections'] = int(wv_types['detections'].sum() - \n",
    "                                           df_valid[['detections']].sum() - \n",
    "                                           df_add[['detections']].sum())\n",
    "usable_df = usable_df.fillna(0)\n",
    "print(usable_df)\n",
    "plt1 = usable_df.drop(['Total detections']).plot(y='detections', kind='pie',\n",
    "                                                 legend=False, \n",
    "                                                 title = species + \" Detections\",\n",
    "                                                 colors=['gray', 'g', 'y'])\n",
    "plt1.set_ylabel(\"\")"
   ]
  },
  {
   "cell_type": "markdown",
   "metadata": {},
   "source": [
    "#### Make a version of the result below that aggregates across species (i.e., average # of cover associations that were validated)."
   ]
  },
  {
   "cell_type": "code",
   "execution_count": 46,
   "metadata": {},
   "outputs": [
    {
     "name": "stdout",
     "output_type": "stream",
     "text": [
      "             GAP_types\n",
      "Unvalidated         25\n",
      "Validated            4\n",
      "Additions            5\n"
     ]
    },
    {
     "data": {
      "image/png": "[encoded data removed]",
      "text/plain": [
       "<Figure size 432x288 with 1 Axes>"
      ]
     },
     "metadata": {
      "needs_background": "light"
     },
     "output_type": "display_data"
    }
   ],
   "source": [
    "# Report and plot results for proportion of GAP systems validated ------------------------------\n",
    "eval_df = pd.DataFrame(index=[\"Unvalidated\", \"Validated\", \"Additions\"], columns=[\"GAP_types\"])\n",
    "eval_df.loc['Unvalidated', \"GAP_types\"] = len(gap_types) - len(df_valid)\n",
    "eval_df.loc['Validated', \"GAP_types\"] = len(df_valid)\n",
    "eval_df.loc['Additions', \"GAP_types\"] = len(df_add)\n",
    "eval_df = eval_df.fillna(0)\n",
    "print(eval_df)\n",
    "plt2 = eval_df.plot(y='GAP_types', kind='barh', legend=False, title = species + \" GAP associations\")"
   ]
  },
  {
   "cell_type": "markdown",
   "metadata": {},
   "source": [
    "#### List GAP_types with number of species for which types was validated, addition was supported, or unvalidated."
   ]
  }
 ],
 "metadata": {
  "kernelspec": {
   "display_name": "Python 3",
   "language": "python",
   "name": "python3"
  },
  "language_info": {
   "codemirror_mode": {
    "name": "ipython",
    "version": 3
   },
   "file_extension": ".py",
   "mimetype": "text/x-python",
   "name": "python",
   "nbconvert_exporter": "python",
   "pygments_lexer": "ipython3",
   "version": "3.6.10"
  }
 },
 "nbformat": 4,
 "nbformat_minor": 4
}
