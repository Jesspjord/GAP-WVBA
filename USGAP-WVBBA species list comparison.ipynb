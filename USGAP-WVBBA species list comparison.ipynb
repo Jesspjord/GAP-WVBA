{
 "cells": [
  {
   "cell_type": "markdown",
   "metadata": {},
   "source": [
    "#  US Gap Analysis Project - WV Breeding Bird Atlas Data Comparison \n",
    "Nathan Tarr and Jessie Jordan\n",
    "\n",
    "## Species occurring in West Virginia\n",
    "We investigated the agreement between WV Breeding Bird Atlas (2011-2015) and USGS Gap Analysis Project data on the species occupying West Virginia."
   ]
  },
  {
   "cell_type": "markdown",
   "metadata": {},
   "source": [
    "We combined a list of species that GAP predicted to be in WV during the breeding season with the WVBBA data by linking records on common names.  We resolved unmatched names, although very few existed."
   ]
  },
  {
   "cell_type": "markdown",
   "metadata": {},
   "source": [
    "# What's with CAWA missing?  Others?"
   ]
  },
  {
   "cell_type": "code",
   "execution_count": 1,
   "metadata": {},
   "outputs": [
    {
     "name": "stdout",
     "output_type": "stream",
     "text": [
      "The first 5 records\n",
      "                                  0                    1                   2                   3                    4\n",
      "GAP_sci_name       Falco sparverius  Thryomanes bewickii  Passerina caerulea  Quiscalus quiscula   Geothlypis trichas\n",
      "GAP_code                     bamkex               bbewrx              bblgrx              bcogrx               bcoyex\n",
      "common_name        American Kestrel        Bewick's Wren       Blue Grosbeak      Common Grackle  Common Yellowthroat\n",
      "GAP_habitat(ha)         1.91945e+06              1454.67         1.66457e+06         2.09797e+06          4.31626e+06\n",
      "WVBBA_sci_name                  NaN                  NaN                 NaN  Quiscalus quiscula   Geothlypis trichas\n",
      "WVBBA_individuals               NaN                  NaN                 NaN                 841                  734\n",
      "WVBBA_points                    NaN                  NaN                 NaN                 274                  545\n",
      "WVBBA_rate                      NaN                  NaN                 NaN                 8.6                 17.1\n"
     ]
    }
   ],
   "source": [
    "import pandas as pd\n",
    "import repo_functions as fun \n",
    "import numpy as np\n",
    "pd.set_option('display.width', 2000)\n",
    "pd.set_option('display.max_colwidth', 400)\n",
    "pd.set_option('display.max_rows', 400)\n",
    "pd.set_option('display.max_columns', 15)\n",
    "\n",
    "# Read in the spp crosswalk\n",
    "crosswalk = pd.read_csv(fun.dataDir + \"SpeciesLists/WV_GAP_Atlas.csv\", header=0, names=[\"GAP_sci_name\", \"GAP_code\", \n",
    "                                                                                        \"common_name\", \"GAP_habitat(ha)\",\n",
    "                                                                                        \"WVBBA_sci_name\", \"WVBBA_individuals\",\n",
    "                                                                                        \"WVBBA_points\", \"WVBBA_rate\"])\n",
    "print(\"The first 5 records\")\n",
    "print(crosswalk.head().T)"
   ]
  },
  {
   "cell_type": "markdown",
   "metadata": {},
   "source": [
    "### eBird\n",
    "We pulled a list of species, and the frequency of detection from the eBird API via the R rebird package.  The table returned had the following columns for WV during the months of May and June and years 2011 to 2015:\n",
    "\n",
    "\"monthQt\": month and week (eBird data divides each month by four\n",
    "weeks)\n",
    "\n",
    "\"comName\": species common name\n",
    "\n",
    "\"frequency\": proportion of times the species was seen in a\n",
    "specified week\n",
    "\n",
    "\"sampleSize\" number of complete eBird checklists submitted for\n",
    "specified given week.\n",
    "\n",
    "We aggregated weekly mean frequencies of detection to a single value by calculating their mean."
   ]
  },
  {
   "cell_type": "code",
   "execution_count": 11,
   "metadata": {},
   "outputs": [],
   "source": [
    "# Ebird pulled via rebird frequency 2011 to 2015 in WV\n",
    "eBird =(pd.read_csv(fun.dataDir + \"SpeciesLists/ebird_WV_2011_2015.csv\")\n",
    "        [lambda x: x['frequency'] > 0]\n",
    "        [lambda x: x['comName'].str.contains(' sp.') == False]\n",
    "        [lambda x: x['monthQt'].str.contains('May|June')]\n",
    "        [lambda x: x['comName'].str.contains('hybrid') == False]\n",
    "        [lambda x: x['comName'].str.contains('/') == False]\n",
    "        .drop(['monthQt'], axis=1)\n",
    "        .groupby('comName').mean()\n",
    "        .drop(['sampleSize'], axis=1)\n",
    "        .rename(columns={'frequency': 'eBird_mean_freq'})\n",
    "        .reset_index()\n",
    "        .sort_values(by=['eBird_mean_freq'], ascending=False))\n",
    "eBird.loc[eBird[eBird['comName'] == 'Black-crowned Night-Heron'].index, 'comName'] = 'Black-crowned Night-heron'\n",
    "eBird.loc[eBird[eBird['comName'] == 'Eastern Whip-poor-will'].index, 'comName'] = 'Whip-poor-will'\n",
    "eBird.loc[eBird[eBird['comName'] == 'Eurasian Collared-Dove'].index, 'comName'] = 'Eurasian Collared-dove'\n",
    "eBird['COMMON_NAME'] = [x.upper() for x in eBird['comName']]"
   ]
  },
  {
   "cell_type": "markdown",
   "metadata": {},
   "source": [
    "We merged the GAP-WVBBA species list crosswalk with the eBird species list to facilitate comparisons of species lists."
   ]
  },
  {
   "cell_type": "code",
   "execution_count": 12,
   "metadata": {},
   "outputs": [],
   "source": [
    "# Merge the eBird, WV, and GAP lists\n",
    "crosswalk[\"COMMON\"] = [x.upper() for x in crosswalk['common_name']]\n",
    "df = (pd.merge(crosswalk, eBird, left_on='COMMON', right_on='COMMON_NAME',how='outer')\n",
    "      .drop([\"COMMON\", \"COMMON_NAME\"], axis=1)\n",
    "      .sort_values(by=['common_name']))\n",
    "df.to_csv(fun.dataDir + \"/SpeciesLists/merged_spp_lists.csv\")"
   ]
  },
  {
   "cell_type": "markdown",
   "metadata": {},
   "source": [
    "### Which species were on the eBird and GAP list but not detected by WVBBA?"
   ]
  },
  {
   "cell_type": "code",
   "execution_count": 13,
   "metadata": {},
   "outputs": [
    {
     "name": "stdout",
     "output_type": "stream",
     "text": [
      "71 species\n",
      "                                         GAP_sci_name GAP_code  GAP_habitat(ha)  eBird_mean_freq\n",
      "common_name                                                                                     \n",
      "Common Nighthawk                     Chordeiles minor   bconix       6264655.47         0.007216\n",
      "Sharp-shinned Hawk                 Accipiter striatus   bsshax       6165425.52         0.012097\n",
      "Great Horned Owl                     Bubo virginianus   bghowx       6020121.24         0.002978\n",
      "Eastern Screech-owl                    Megascops asio   beasox       5659328.88         0.005242\n",
      "White-throated Sparrow         Zonotrichia albicollis   bwtspx       5423426.46         0.053249\n",
      "Pine Siskin                           Carduelis pinus   bpisix       5397580.08         0.016178\n",
      "Ruffed Grouse                         Bonasa umbellus   brugrx       5245966.08         0.025642\n",
      "Cooper's Hawk                      Accipiter cooperii   bcohax       5158733.49         0.024703\n",
      "Brown Creeper                       Certhia americana   bbrcrx       5137166.61         0.014990\n",
      "Red-headed Woodpecker      Melanerpes erythrocephalus   brhwox       4767366.06         0.019398\n",
      "Northern Saw-whet Owl               Aegolius acadicus   bnswox       3844921.14         0.001441\n",
      "Ruby-crowned Kinglet                Regulus calendula   brckix       3579367.86         0.029439\n",
      "Whip-poor-will                  Caprimulgus vociferus   bwpwix       3535841.97         0.024387\n",
      "Long-eared Owl                              Asio otus   bleowx       2973977.01         0.000655\n",
      "American Woodcock                      Scolopax minor   bamwox       2828272.41         0.010078\n",
      "Fox Sparrow                         Passerella iliaca   bfospx       2476161.27         0.001500\n",
      "Evening Grosbeak           Coccothraustes vespertinus   bevgrx       2443316.13         0.001343\n",
      "American Kestrel                     Falco sparverius   bamkex       1919452.23         0.019682\n",
      "White-crowned Sparrow          Zonotrichia leucophrys   bewcsx       1834891.65         0.028275\n",
      "Red Crossbill                       Loxia curvirostra   brecrx       1801987.11         0.003942\n",
      "Yellow-rumped Warbler              Dendroica coronata   byrwax       1740842.82         0.105980\n",
      "Blue Grosbeak                      Passerina caerulea   bblgrx       1664566.20         0.007516\n",
      "Northern Goshawk                   Accipiter gentilis   bnogox       1485995.49         0.001047\n",
      "Purple Finch                     Carpodacus purpureus   bpufix       1413723.42         0.023047\n",
      "Swainson's Warbler            Limnothlypis swainsonii   bswwax       1141734.15         0.012084\n",
      "Cliff Swallow                Petrochelidon pyrrhonota   bclswx       1106614.44         0.032924\n",
      "Cattle Egret                            Bubulcus ibis   bcaegx       1079016.39         0.001170\n",
      "Horned Lark                      Eremophila alpestris   bholax        863204.85         0.002707\n",
      "Northern Bobwhite                 Colinus virginianus   bnobox        832633.92         0.001444\n",
      "Purple Martin                            Progne subis   bpumax        654258.51         0.034160\n",
      "Black Vulture                        Coragyps atratus   bblvux        645326.64         0.057021\n",
      "Olive-sided Flycatcher               Contopus cooperi   bosflx        641097.45         0.004344\n",
      "Rusty Blackbird                    Euphagus carolinus   brublx        550602.81         0.002948\n",
      "Vesper Sparrow                    Pooecetes gramineus   bvespx        475415.82         0.008309\n",
      "Northern Harrier                       Circus cyaneus   bnohax        467132.67         0.004579\n",
      "Bank Swallow                          Riparia riparia   bbansx        400276.44         0.009047\n",
      "Canada Warbler                    Wilsonia canadensis   bcawax        396381.69         0.027024\n",
      "Swainson's Thrush                  Catharus ustulatus   bswthx        334295.46         0.034630\n",
      "Northern Waterthrush           Seiurus noveboracensis   bnowax        309306.51         0.017463\n",
      "Nashville Warbler               Vermivora ruficapilla   bnawax        227105.37         0.027164\n",
      "Chuck-will's-widow           Caprimulgus carolinensis   bcwwix        188641.35         0.001556\n",
      "Ring-necked Pheasant              Phasianus colchicus   brnepx        164598.12         0.001080\n",
      "Pied-billed Grebe                 Podilymbus podiceps   bpbgrx        151260.48         0.006013\n",
      "American Black Duck                     Anas rubripes   babdux        144851.85         0.002911\n",
      "Barn Owl                                    Tyto alba   bbanox        141250.86         0.001500\n",
      "Fish Crow                           Corvus ossifragus   bficrx        120542.58         0.032193\n",
      "American Bittern                Botaurus lentiginosus   bambix         92506.14         0.002250\n",
      "Upland Sandpiper                 Bartramia longicauda   bupsax         88442.28         0.001187\n",
      "Dickcissel                            Spiza americana   bdickx         74512.89         0.002773\n",
      "Hooded Merganser                Lophodytes cucullatus   bhomex         66286.08         0.001809\n",
      "Least Bittern                       Ixobrychus exilis   blebix         64859.49         0.000721\n",
      "Peregrine Falcon                     Falco peregrinus   bpefax         46388.61         0.002353\n",
      "Bufflehead                          Bucephala albeola   bbuffx         45562.05         0.001343\n",
      "Loggerhead Shrike                 Lanius ludovicianus   bloshx         35316.09         0.001510\n",
      "Blue-winged Teal                         Anas discors   bbwtex         33558.84         0.004492\n",
      "Marsh Wren                      Cistothorus palustris   bmawrx         26677.62         0.000655\n",
      "Gadwall                                 Anas strepera   bgadwx         25439.85         0.001018\n",
      "Mourning Warbler               Oporornis philadelphia   bmowax         22931.73         0.018378\n",
      "Golden Eagle                        Aquila chrysaetos   bgoeax         20035.62         0.000762\n",
      "Bald Eagle                   Haliaeetus leucocephalus   bbaeax         19142.82         0.028751\n",
      "Sora                                 Porzana carolina   bsorax         16664.85         0.001796\n",
      "Virginia Rail                         Rallus limicola   bvirax         10972.71         0.001659\n",
      "Common Goldeneye                   Bucephala clangula   bcogox         10165.23         0.000655\n",
      "Black-crowned Night-heron       Nycticorax nycticorax   bbcnhx          7736.94         0.001500\n",
      "Henslow's Sparrow                Ammodramus henslowii   bhespx          7660.08         0.004448\n",
      "American Coot                        Fulica americana   bamcox          4085.55         0.006643\n",
      "Prothonotary Warbler              Protonotaria citrea   bprowx          2511.09         0.008324\n",
      "Ring-necked Duck                      Aythya collaris   brndux           954.18         0.001683\n",
      "Lesser Scaup                           Aythya affinis   blescx           864.09         0.001370\n",
      "Green-winged Teal                         Anas crecca   bgwtex            26.82         0.001198\n",
      "Double-crested Cormorant        Phalacrocorax auritus   bdccox             0.09         0.026005\n"
     ]
    }
   ],
   "source": [
    "a = (df[(df['WVBBA_individuals'].isnull() == True) & \n",
    "        (df['GAP_code'].isnull() == False) &\n",
    "        (df['comName'].isnull() == False)]\n",
    "     .drop([\"WVBBA_sci_name\", \"WVBBA_individuals\", \"WVBBA_points\", \"WVBBA_rate\", \"comName\"], axis=1)\n",
    "     .sort_values(\"GAP_habitat(ha)\", ascending=False)\n",
    "     .set_index([\"common_name\"]))\n",
    "print(str(len(a)) + \" species\")\n",
    "print(a)"
   ]
  },
  {
   "cell_type": "markdown",
   "metadata": {},
   "source": [
    "### Which species were submitted on the eBird list but not GAP or WVBBA?"
   ]
  },
  {
   "cell_type": "code",
   "execution_count": 14,
   "metadata": {},
   "outputs": [
    {
     "name": "stdout",
     "output_type": "stream",
     "text": [
      "                               eBird_mean_freq\n",
      "comName                                       \n",
      "Spotted Sandpiper                     0.071560\n",
      "Blackpoll Warbler                     0.046135\n",
      "Solitary Sandpiper                    0.041571\n",
      "Tennessee Warbler                     0.034274\n",
      "Osprey                                0.027728\n",
      "Least Sandpiper                       0.019457\n",
      "Palm Warbler                          0.016924\n",
      "Cape May Warbler                      0.013832\n",
      "Bay-breasted Warbler                  0.013348\n",
      "Common Merganser                      0.012187\n",
      "Lesser Yellowlegs                     0.010913\n",
      "Greater Yellowlegs                    0.008131\n",
      "Semipalmated Plover                   0.007858\n",
      "Ring-billed Gull                      0.006531\n",
      "Wilson's Warbler                      0.006330\n",
      "Great Egret                           0.005271\n",
      "Semipalmated Sandpiper                0.005211\n",
      "Lincoln's Sparrow                     0.005165\n",
      "Mallard (Domestic type)               0.004767\n",
      "Gray-cheeked Thrush                   0.004710\n",
      "Black Rail                            0.004581\n",
      "Common Loon                           0.004406\n",
      "Forster's Tern                        0.003839\n",
      "Wilson's Snipe                        0.003579\n",
      "White-rumped Sandpiper                0.003315\n",
      "Mute Swan                             0.003188\n",
      "Red-breasted Merganser                0.003020\n",
      "Common Gallinule                      0.002915\n",
      "Muscovy Duck (Domestic type)          0.002893\n",
      "Herring Gull                          0.002211\n",
      "Philadelphia Vireo                    0.002153\n",
      "Stilt Sandpiper                       0.002145\n",
      "Graylag Goose (Domestic type)         0.002143\n",
      "Horned Grebe                          0.001996\n",
      "Clay-colored Sparrow                  0.001670\n",
      "Short-billed Dowitcher                0.001624\n",
      "Caspian Tern                          0.001526\n",
      "Black Tern                            0.001500\n",
      "Whimbrel                              0.001500\n",
      "White-winged Dove                     0.001500\n",
      "Kirtland's Warbler                    0.001500\n",
      "Long-billed Dowitcher                 0.001500\n",
      "Ruddy Turnstone                       0.001500\n",
      "Sandhill Crane                        0.001500\n",
      "Common Tern                           0.001500\n",
      "American Avocet                       0.001500\n",
      "Western Sandpiper                     0.001500\n",
      "Marbled Godwit                        0.001500\n",
      "Franklin's Gull                       0.001500\n",
      "Black-bellied Plover                  0.001500\n",
      "Surf Scoter                           0.001500\n",
      "Willet                                0.001409\n",
      "Pectoral Sandpiper                    0.001377\n",
      "Orange-crowned Warbler                0.001298\n",
      "Bonaparte's Gull                      0.001298\n",
      "Connecticut Warbler                   0.001258\n",
      "American Wigeon                       0.001243\n",
      "American Pipit                        0.001243\n",
      "Merlin                                0.001218\n",
      "Ruddy Duck                            0.001168\n",
      "Dunlin                                0.001146\n",
      "Wilson's Phalarope                    0.001045\n",
      "Red-necked Phalarope                  0.000954\n",
      "Mississippi Kite                      0.000946\n",
      "Glossy Ibis                           0.000930\n",
      "Sedge Wren                            0.000930\n",
      "Wood Stork                            0.000930\n",
      "Little Blue Heron                     0.000921\n",
      "Snowy Egret                           0.000818\n",
      "Northern Shoveler                     0.000762\n",
      "Snow Goose                            0.000705\n",
      "Canvasback                            0.000705\n",
      "Yellow-bellied Flycatcher             0.000680\n",
      "White-winged Scoter                   0.000594\n",
      "Red-necked Grebe                      0.000594\n"
     ]
    }
   ],
   "source": [
    "b = (df[(df['WVBBA_individuals'].isnull() == True) & \n",
    "     (df['GAP_code'].isnull() == True) &\n",
    "     (df['comName'].isnull() == False)]\n",
    "     .sort_values(\"eBird_mean_freq\", ascending=False)\n",
    "     .set_index([\"comName\"]))\n",
    "print(b[[\"eBird_mean_freq\"]])"
   ]
  },
  {
   "cell_type": "markdown",
   "metadata": {},
   "source": [
    "### Were any species detected by WVBBA but not submitted to eBird or predicted present by GAP?"
   ]
  },
  {
   "cell_type": "code",
   "execution_count": 15,
   "metadata": {},
   "outputs": [
    {
     "name": "stdout",
     "output_type": "stream",
     "text": [
      "No\n"
     ]
    }
   ],
   "source": [
    "c = (df[(df['WVBBA_individuals'].isnull() == False) & \n",
    "     (df['GAP_code'].isnull() == True) &\n",
    "     (df['comName'].isnull() == True)])\n",
    "if len(c) > 0:\n",
    "    print(c)\n",
    "else:\n",
    "    print(\"No\")"
   ]
  },
  {
   "cell_type": "markdown",
   "metadata": {},
   "source": [
    "### Were any species predicted present by GAP but not detected by WVBBA or submitted to eBird?"
   ]
  },
  {
   "cell_type": "code",
   "execution_count": 16,
   "metadata": {},
   "outputs": [
    {
     "name": "stdout",
     "output_type": "stream",
     "text": [
      "                       GAP_code           GAP_sci_name  GAP_habitat(ha)\n",
      "common_name                                                            \n",
      "White-winged Crossbill   bwwcrx       Loxia leucoptera       1322059.14\n",
      "American Tree Sparrow    batspx       Spizella arborea       1179375.39\n",
      "Lapland Longspur         blalox   Calcarius lapponicus       1076582.16\n",
      "Short-eared Owl          bseowx          Asio flammeus       1049761.26\n",
      "Rough-legged Hawk        brlhax          Buteo lagopus       1007153.37\n",
      "Hoary Redpoll            bhorex   Carduelis hornemanni        700331.76\n",
      "Northern Shrike          bnshrx       Lanius excubitor        427751.10\n",
      "Snowy Owl                bsnowx        Bubo scandiacus        156197.88\n",
      "Lark Sparrow             blaspx   Chondestes grammacus         34328.16\n",
      "Pine Grosbeak            bpigrx    Pinicola enucleator         19101.96\n",
      "Eurasian Collared-dove   beucdx  Streptopelia decaocto          8702.73\n",
      "Snow Bunting             bsnbux  Plectrophenax nivalis          4467.96\n",
      "Northern Pintail         bnopix             Anas acuta          3507.93\n",
      "Bewick's Wren            bbewrx    Thryomanes bewickii          1454.67\n",
      "King Rail                bkirax         Rallus elegans          1255.32\n",
      "Eurasian Wigeon          beuwix          Anas penelope          1189.26\n",
      "Redhead                  bredhx       Aythya americana           873.27\n",
      "Greater Scaup            bgrscx          Aythya marila           680.04\n"
     ]
    }
   ],
   "source": [
    "d = (df[(df['WVBBA_individuals'].isnull() == True) & \n",
    "     (df['GAP_code'].isnull() == False) &\n",
    "     (df['comName'].isnull() == True)]\n",
    "    .set_index([\"common_name\"])\n",
    "    .sort_values([\"GAP_habitat(ha)\"], ascending=False))\n",
    "if len(d) > 0:\n",
    "    print(d[[\"GAP_code\", \"GAP_sci_name\", \"GAP_habitat(ha)\"]])\n",
    "else:\n",
    "    print(\"No\")"
   ]
  },
  {
   "cell_type": "markdown",
   "metadata": {},
   "source": [
    "### Which species were predicted present by GAP but not detected by WVBBA? eBird ignored here."
   ]
  },
  {
   "cell_type": "code",
   "execution_count": 17,
   "metadata": {},
   "outputs": [
    {
     "name": "stdout",
     "output_type": "stream",
     "text": [
      "                          GAP_code                GAP_sci_name  GAP_habitat(ha)\n",
      "common_name                                                                    \n",
      "American Bittern            bambix       Botaurus lentiginosus         92506.14\n",
      "American Black Duck         babdux               Anas rubripes        144851.85\n",
      "American Coot               bamcox            Fulica americana          4085.55\n",
      "American Kestrel            bamkex            Falco sparverius       1919452.23\n",
      "American Tree Sparrow       batspx            Spizella arborea       1179375.39\n",
      "American Woodcock           bamwox              Scolopax minor       2828272.41\n",
      "Bald Eagle                  bbaeax    Haliaeetus leucocephalus         19142.82\n",
      "Bank Swallow                bbansx             Riparia riparia        400276.44\n",
      "Barn Owl                    bbanox                   Tyto alba        141250.86\n",
      "Bewick's Wren               bbewrx         Thryomanes bewickii          1454.67\n",
      "Black Vulture               bblvux            Coragyps atratus        645326.64\n",
      "Black-crowned Night-heron   bbcnhx       Nycticorax nycticorax          7736.94\n",
      "Blue Grosbeak               bblgrx          Passerina caerulea       1664566.20\n",
      "Blue-winged Teal            bbwtex                Anas discors         33558.84\n",
      "Brown Creeper               bbrcrx           Certhia americana       5137166.61\n",
      "Bufflehead                  bbuffx           Bucephala albeola         45562.05\n",
      "Canada Warbler              bcawax         Wilsonia canadensis        396381.69\n",
      "Cattle Egret                bcaegx               Bubulcus ibis       1079016.39\n",
      "Chuck-will's-widow          bcwwix    Caprimulgus carolinensis        188641.35\n",
      "Cliff Swallow               bclswx    Petrochelidon pyrrhonota       1106614.44\n",
      "Common Goldeneye            bcogox          Bucephala clangula         10165.23\n",
      "Common Nighthawk            bconix            Chordeiles minor       6264655.47\n",
      "Cooper's Hawk               bcohax          Accipiter cooperii       5158733.49\n",
      "Dickcissel                  bdickx             Spiza americana         74512.89\n",
      "Double-crested Cormorant    bdccox       Phalacrocorax auritus             0.09\n",
      "Eastern Screech-owl         beasox              Megascops asio       5659328.88\n",
      "Eurasian Collared-dove      beucdx       Streptopelia decaocto          8702.73\n",
      "Eurasian Wigeon             beuwix               Anas penelope          1189.26\n",
      "Evening Grosbeak            bevgrx  Coccothraustes vespertinus       2443316.13\n",
      "Fish Crow                   bficrx           Corvus ossifragus        120542.58\n",
      "Fox Sparrow                 bfospx           Passerella iliaca       2476161.27\n",
      "Gadwall                     bgadwx               Anas strepera         25439.85\n",
      "Golden Eagle                bgoeax           Aquila chrysaetos         20035.62\n",
      "Great Horned Owl            bghowx            Bubo virginianus       6020121.24\n",
      "Greater Scaup               bgrscx               Aythya marila           680.04\n",
      "Green-winged Teal           bgwtex                 Anas crecca            26.82\n",
      "Henslow's Sparrow           bhespx        Ammodramus henslowii          7660.08\n",
      "Hoary Redpoll               bhorex        Carduelis hornemanni        700331.76\n",
      "Hooded Merganser            bhomex       Lophodytes cucullatus         66286.08\n",
      "Horned Lark                 bholax        Eremophila alpestris        863204.85\n",
      "King Rail                   bkirax              Rallus elegans          1255.32\n",
      "Lapland Longspur            blalox        Calcarius lapponicus       1076582.16\n",
      "Lark Sparrow                blaspx        Chondestes grammacus         34328.16\n",
      "Least Bittern               blebix           Ixobrychus exilis         64859.49\n",
      "Lesser Scaup                blescx              Aythya affinis           864.09\n",
      "Loggerhead Shrike           bloshx         Lanius ludovicianus         35316.09\n",
      "Long-eared Owl              bleowx                   Asio otus       2973977.01\n",
      "Marsh Wren                  bmawrx       Cistothorus palustris         26677.62\n",
      "Mourning Warbler            bmowax      Oporornis philadelphia         22931.73\n",
      "Nashville Warbler           bnawax       Vermivora ruficapilla        227105.37\n",
      "Northern Bobwhite           bnobox         Colinus virginianus        832633.92\n",
      "Northern Goshawk            bnogox          Accipiter gentilis       1485995.49\n",
      "Northern Harrier            bnohax              Circus cyaneus        467132.67\n",
      "Northern Pintail            bnopix                  Anas acuta          3507.93\n",
      "Northern Saw-whet Owl       bnswox           Aegolius acadicus       3844921.14\n",
      "Northern Shrike             bnshrx            Lanius excubitor        427751.10\n",
      "Northern Waterthrush        bnowax      Seiurus noveboracensis        309306.51\n",
      "Olive-sided Flycatcher      bosflx            Contopus cooperi        641097.45\n",
      "Peregrine Falcon            bpefax            Falco peregrinus         46388.61\n",
      "Pied-billed Grebe           bpbgrx         Podilymbus podiceps        151260.48\n",
      "Pine Grosbeak               bpigrx         Pinicola enucleator         19101.96\n",
      "Pine Siskin                 bpisix             Carduelis pinus       5397580.08\n",
      "Prothonotary Warbler        bprowx         Protonotaria citrea          2511.09\n",
      "Purple Finch                bpufix        Carpodacus purpureus       1413723.42\n",
      "Purple Martin               bpumax                Progne subis        654258.51\n",
      "Red Crossbill               brecrx           Loxia curvirostra       1801987.11\n",
      "Red-headed Woodpecker       brhwox  Melanerpes erythrocephalus       4767366.06\n",
      "Redhead                     bredhx            Aythya americana           873.27\n",
      "Ring-necked Duck            brndux             Aythya collaris           954.18\n",
      "Ring-necked Pheasant        brnepx         Phasianus colchicus        164598.12\n",
      "Rough-legged Hawk           brlhax               Buteo lagopus       1007153.37\n",
      "Ruby-crowned Kinglet        brckix           Regulus calendula       3579367.86\n",
      "Ruffed Grouse               brugrx             Bonasa umbellus       5245966.08\n",
      "Rusty Blackbird             brublx          Euphagus carolinus        550602.81\n",
      "Sharp-shinned Hawk          bsshax          Accipiter striatus       6165425.52\n",
      "Short-eared Owl             bseowx               Asio flammeus       1049761.26\n",
      "Snow Bunting                bsnbux       Plectrophenax nivalis          4467.96\n",
      "Snowy Owl                   bsnowx             Bubo scandiacus        156197.88\n",
      "Sora                        bsorax            Porzana carolina         16664.85\n",
      "Swainson's Thrush           bswthx          Catharus ustulatus        334295.46\n",
      "Swainson's Warbler          bswwax     Limnothlypis swainsonii       1141734.15\n",
      "Upland Sandpiper            bupsax        Bartramia longicauda         88442.28\n",
      "Vesper Sparrow              bvespx         Pooecetes gramineus        475415.82\n",
      "Virginia Rail               bvirax             Rallus limicola         10972.71\n",
      "Whip-poor-will              bwpwix       Caprimulgus vociferus       3535841.97\n",
      "White-crowned Sparrow       bewcsx      Zonotrichia leucophrys       1834891.65\n",
      "White-throated Sparrow      bwtspx      Zonotrichia albicollis       5423426.46\n",
      "White-winged Crossbill      bwwcrx            Loxia leucoptera       1322059.14\n",
      "Yellow-rumped Warbler       byrwax          Dendroica coronata       1740842.82\n"
     ]
    }
   ],
   "source": [
    "e = (df[(df['WVBBA_individuals'].isnull() == True) & \n",
    "     (df['GAP_code'].isnull() == False)]\n",
    "    .set_index([\"common_name\"])\n",
    "    .sort_values([\"common_name\"], ascending=True))\n",
    "if len(e) > 0:\n",
    "    print(e[[\"GAP_code\", \"GAP_sci_name\", \"GAP_habitat(ha)\"]])\n",
    "else:\n",
    "    print(\"No\")"
   ]
  }
 ],
 "metadata": {
  "kernelspec": {
   "display_name": "Python 3",
   "language": "python",
   "name": "python3"
  },
  "language_info": {
   "codemirror_mode": {
    "name": "ipython",
    "version": 3
   },
   "file_extension": ".py",
   "mimetype": "text/x-python",
   "name": "python",
   "nbconvert_exporter": "python",
   "pygments_lexer": "ipython3",
   "version": "3.6.10"
  }
 },
 "nbformat": 4,
 "nbformat_minor": 4
}
