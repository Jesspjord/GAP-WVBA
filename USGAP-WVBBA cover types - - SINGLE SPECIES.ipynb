{
 "cells": [
  {
   "cell_type": "markdown",
   "metadata": {},
   "source": [
    "#  US Gap Analysis Project - WV Breeding Bird Atlas Data Comparison \n",
    "Nathan Tarr and Jessie Jordan\n",
    "\n",
    "## Cover type associations in West Virginia\n",
    "We investigated the agreement between WV Breeding Bird Atlas (2011-2015) and USGS Gap Analysis Project data on "
   ]
  },
  {
   "cell_type": "code",
   "execution_count": 1,
   "metadata": {},
   "outputs": [],
   "source": [
    "# Define a species ----------------------------------------------------------\n",
    "species = 'Common Yellowthroat'"
   ]
  },
  {
   "cell_type": "code",
   "execution_count": 2,
   "metadata": {},
   "outputs": [],
   "source": [
    "import pandas as pd\n",
    "import repo_functions as fun\n",
    "pd.set_option('display.width', 2000)\n",
    "pd.set_option('display.max_colwidth', 400)\n",
    "pd.set_option('display.max_rows', 400)\n",
    "pd.set_option('display.max_columns', 15)\n",
    "\n",
    "# Load land cover crosswalk - slow loading for some reason\n",
    "cross = pd.read_csv(fun.dataDir + \"LandCover/land_cover_crosswalk.csv\", header=0, dtype={'GAP_code': str}) "
   ]
  },
  {
   "cell_type": "code",
   "execution_count": 3,
   "metadata": {},
   "outputs": [
    {
     "name": "stdout",
     "output_type": "stream",
     "text": [
      "\n",
      "System associations in the GAP model\n",
      "                                                                   GAP_name\n",
      "GAP_code                                                                   \n",
      "1201                                                  Developed, Open Space\n",
      "1201                                                  Developed, Open Space\n",
      "1403                                                            Pasture/Hay\n",
      "1403                                                            Pasture/Hay\n",
      "4104                Northeastern Interior Dry Oak Forest-Hardwood Modifier*\n",
      "4104                Northeastern Interior Dry Oak Forest-Hardwood Modifier*\n",
      "4119                          Southern Appalachian Northern Hardwood Forest\n",
      "4119                          Southern Appalachian Northern Hardwood Forest\n",
      "4119                          Southern Appalachian Northern Hardwood Forest\n",
      "4125                            Southern and Central Appalachian Oak Forest\n",
      "4125                            Southern and Central Appalachian Oak Forest\n",
      "4126            Allegheny-Cumberland Dry Oak Forest and Woodland - Hardwood\n",
      "4127                    Central and Southern Appalachian Montane Oak Forest\n",
      "4202                                         Southern Piedmont Mesic Forest\n",
      "4302            Southern Piedmont Dry Oak-(Pine) Forest - Hardwood Modifier\n",
      "4307       Allegheny-Cumberland Dry Oak Forest and Woodland - Pine Modifier\n",
      "4308        Southern Ridge and Valley Dry Calcareous Forest - Pine modifier\n",
      "4308        Southern Ridge and Valley Dry Calcareous Forest - Pine modifier\n",
      "4329                               Southern Piedmont Dry Oak-(Pine) Forest*\n",
      "4331                                    Appalachian Hemlock-Hardwood Forest\n",
      "4331                                    Appalachian Hemlock-Hardwood Forest\n",
      "4334                        Southern Ridge and Valley Dry Calcareous Forest\n",
      "4334                        Southern Ridge and Valley Dry Calcareous Forest\n",
      "4401                           Southern and Central Appalachian Cove Forest\n",
      "4401                           Southern and Central Appalachian Cove Forest\n",
      "4402                               South-Central Interior Mesophytic Forest\n",
      "4402                               South-Central Interior Mesophytic Forest\n",
      "4612                     Central and Southern Appalachian Spruce-Fir Forest\n",
      "4612                     Central and Southern Appalachian Spruce-Fir Forest\n",
      "4612                     Central and Southern Appalachian Spruce-Fir Forest\n",
      "8102                            Disturbed/Successional - Shrub Regeneration\n",
      "8103                      Disturbed/Successional - Grass/Forb Regeneration*\n",
      "8107                                    Harvested Forest-Shrub Regeneration\n",
      "8108                             Harvested Forest - Grass/Forb Regeneration\n",
      "8202                                   Evergreen Plantation or Managed Pine\n",
      "8202                                   Evergreen Plantation or Managed Pine\n",
      "8203                                                Managed Tree Plantation\n",
      "8203                                                Managed Tree Plantation\n",
      "8404                        Introduced Upland Vegetation - Annual Grassland\n",
      "8504                                                         Ruderal forest\n",
      "8504                                                         Ruderal forest\n",
      "9212                      North-Central Interior and Appalachian Rich Swamp\n",
      "9212                      North-Central Interior and Appalachian Rich Swamp\n",
      "9222      Central Interior and Appalachian Shrub-Herbaceous Wetland Systems\n",
      "9222      Central Interior and Appalachian Shrub-Herbaceous Wetland Systems\n",
      "9222      Central Interior and Appalachian Shrub-Herbaceous Wetland Systems\n",
      "9803                         Central Appalachian Riparian - Forest Modifier\n",
      "9818                    Central Interior and Appalachian Floodplain Systems\n",
      "9818                    Central Interior and Appalachian Floodplain Systems\n",
      "9819                      Central Interior and Appalachian Riparian Systems\n",
      "9819                      Central Interior and Appalachian Riparian Systems\n",
      "9819                      Central Interior and Appalachian Riparian Systems\n",
      "9850                       South-Central Interior Small Stream and Riparian\n",
      "9857                                South-Central Interior Large Floodplain\n",
      "9914                                   North-Central Interior Wet Flatwoods\n",
      "9914                                   North-Central Interior Wet Flatwoods\n",
      "9914                                   North-Central Interior Wet Flatwoods\n",
      "\n",
      "WVBBA detections by WVBBA habitat type\n",
      "                                             wv_name_fine detections\n",
      "wv_code_fine                                                        \n",
      "1               Mixed mesophytic and cove hardwood forest         10\n",
      "10                          Riparian or floodplain forest         46\n",
      "11            Riparian or floodplain shrub-herb community         54\n",
      "13                                            Shrub swamp         13\n",
      "14                                     Herbaceous wetland          6\n",
      "14a                                                 Marsh          8\n",
      "15a                                                 Creek          4\n",
      "15c                                        Pond/reservoir          4\n",
      "16                                         Disturbed area         16\n",
      "16a                                            Old fields         62\n",
      "16b                                                Logged         11\n",
      "16c                                        Abandoned mine          9\n",
      "17a                                               Pasture         28\n",
      "17b                                                   Hay          9\n",
      "18                                              Developed          1\n",
      "18a                                           Residential          9\n",
      "18b                                            Commerical          2\n",
      "18c                                            Industrial          1\n",
      "2                                        Moist oak forest          4\n",
      "2a                                              Mesic oak          2\n",
      "2b                                            Oak-hickory          3\n",
      "32                                                  Other          2\n",
      "4                               Northern hardwoods forest         13\n",
      "6b                                 Hemlock-mixed hardwood          1\n",
      "8                           Successional deciduous forest         42\n",
      "5 of 33 GAP ecological system associations were validated.\n"
     ]
    }
   ],
   "source": [
    "# Perform crosswalk of detections from WV -> USGAP\n",
    "master, GAP_linked, unmatched, gap_types, wv_types = fun.cross_to_GAP(species, cross)"
   ]
  },
  {
   "cell_type": "code",
   "execution_count": 4,
   "metadata": {},
   "outputs": [
    {
     "name": "stdout",
     "output_type": "stream",
     "text": [
      "Validated associations\n",
      "   GAP_code                                                           GAP_name  detections\n",
      "6      1403                                                        Pasture/Hay         9.0\n",
      "11     4119                      Southern Appalachian Northern Hardwood Forest        13.0\n",
      "15     4202                                     Southern Piedmont Mesic Forest         2.0\n",
      "34     8504                                                     Ruderal forest        42.0\n",
      "36     9222  Central Interior and Appalachian Shrub-Herbaceous Wetland Systems         8.0\n"
     ]
    }
   ],
   "source": [
    "# Show validated associations ------------------------------------------------\n",
    "print(\"Validated associations\")\n",
    "df_valid = master[master['evaluation'] == 'valid']\n",
    "print(df_valid[['GAP_code', 'GAP_name', 'detections']])"
   ]
  },
  {
   "cell_type": "code",
   "execution_count": 5,
   "metadata": {},
   "outputs": [
    {
     "name": "stdout",
     "output_type": "stream",
     "text": [
      "New GAP ecological system associations that are supported by WVBBA:\n",
      "  GAP_code                      GAP_name  detections\n",
      "0        0                           NaN         2.0\n",
      "7     2102            Open Water (Fresh)         4.0\n",
      "8     3105  Undifferentiated Barren Land         9.0\n"
     ]
    }
   ],
   "source": [
    "# Show supported additions ---------------------------------------------------\n",
    "print(\"New GAP ecological system associations that are supported by WVBBA:\")\n",
    "df_add = master[master['evaluation'] == 'add_association']\n",
    "print(df_add[['GAP_code', 'GAP_name', 'detections']])"
   ]
  },
  {
   "cell_type": "code",
   "execution_count": 6,
   "metadata": {},
   "outputs": [
    {
     "name": "stdout",
     "output_type": "stream",
     "text": [
      "Invalid habitat codes entered by WVBBA observers:\n",
      "{'17': 31.0, '4a': 1.0, '8a': 1.0}\n"
     ]
    }
   ],
   "source": [
    "# Show invalid WV codes entered ----------------------------------------------\n",
    "print(\"Invalid habitat codes entered by WVBBA observers:\")\n",
    "print(unmatched)"
   ]
  },
  {
   "cell_type": "code",
   "execution_count": 7,
   "metadata": {
    "scrolled": false
   },
   "outputs": [
    {
     "name": "stdout",
     "output_type": "stream",
     "text": [
      "                      detections\n",
      "Unusable                   304.0\n",
      "Supported validation        74.0\n",
      "Supported addition          15.0\n",
      "Total detections           393.0\n"
     ]
    },
    {
     "data": {
      "text/plain": [
       "Text(0, 0.5, '')"
      ]
     },
     "execution_count": 7,
     "metadata": {},
     "output_type": "execute_result"
    },
    {
     "data": {
      "image/png": "[encoded data removed]",
      "text/plain": [
       "<Figure size 432x288 with 1 Axes>"
      ]
     },
     "metadata": {},
     "output_type": "display_data"
    }
   ],
   "source": [
    "# Report and plot results for usable detections ------------------------------\n",
    "usable_df = pd.DataFrame(index=[\"Unusable\", \"Supported validation\", \"Supported addition\", \"Total detections\"], \n",
    "                         columns=[\"detections\"])\n",
    "usable_df.loc['Supported validation', 'detections'] = int(df_valid[['detections']].sum())\n",
    "usable_df.loc['Supported addition', 'detections'] = int(df_add[['detections']].sum())\n",
    "usable_df.loc['Total detections', 'detections'] = wv_types['detections'].sum()\n",
    "usable_df.loc['Unusable', 'detections'] = int(wv_types['detections'].sum() - df_valid[['detections']].sum() - df_add[['detections']].sum())\n",
    "usable_df = usable_df.fillna(0)\n",
    "print(usable_df)\n",
    "plt1 = usable_df.drop(['Total detections']).plot(y='detections', kind='pie',\n",
    "                                                 legend=False, \n",
    "                                                 title = species + \" Detections\",\n",
    "                                                 colors=['gray', 'g', 'y'])\n",
    "plt1.set_ylabel(\"\")"
   ]
  },
  {
   "cell_type": "code",
   "execution_count": 8,
   "metadata": {},
   "outputs": [
    {
     "name": "stdout",
     "output_type": "stream",
     "text": [
      "             GAP_types\n",
      "Unvalidated         28\n",
      "Validated            5\n",
      "Additions            3\n"
     ]
    },
    {
     "data": {
      "image/png": "[encoded data removed]",
      "text/plain": [
       "<Figure size 432x288 with 1 Axes>"
      ]
     },
     "metadata": {
      "needs_background": "light"
     },
     "output_type": "display_data"
    }
   ],
   "source": [
    "# Report and plot results for proportion of GAP systems validated ------------------------------\n",
    "eval_df = pd.DataFrame(index=[\"Unvalidated\", \"Validated\", \"Additions\"], columns=[\"GAP_types\"])\n",
    "eval_df.loc['Unvalidated', \"GAP_types\"] = len(gap_types) - len(df_valid)\n",
    "eval_df.loc['Validated', \"GAP_types\"] = len(df_valid)\n",
    "eval_df.loc['Additions', \"GAP_types\"] = len(df_add)\n",
    "eval_df = eval_df.fillna(0)\n",
    "print(eval_df)\n",
    "plt2 = eval_df.plot(y='GAP_types', kind='barh', legend=False, title = species + \" GAP associations\")"
   ]
  }
 ],
 "metadata": {
  "kernelspec": {
   "display_name": "Python 3",
   "language": "python",
   "name": "python3"
  },
  "language_info": {
   "codemirror_mode": {
    "name": "ipython",
    "version": 3
   },
   "file_extension": ".py",
   "mimetype": "text/x-python",
   "name": "python",
   "nbconvert_exporter": "python",
   "pygments_lexer": "ipython3",
   "version": "3.6.10"
  }
 },
 "nbformat": 4,
 "nbformat_minor": 4
}
